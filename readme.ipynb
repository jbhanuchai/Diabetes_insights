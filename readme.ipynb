{
 "cells": [
  {
   "cell_type": "markdown",
   "id": "054ac5ed",
   "metadata": {},
   "source": [
    "# Diabetes Insights – An Interactive Dashboard for Public Health Analytics\n",
    "\n",
    "## Project Overview\n",
    "The Diabetes Insights dashboard visualizes patterns of diabetes prevalence across different demographic groups and health behaviors.Users can explore how factors such as age, gender, education level, BMI, smoking status, physical activity, and healthcare access impact diabetes risk. It is intended to serve healthcare professionals, researchers, policymakers, and general users interested in understanding diabetes trends and risk factors.\n",
    "\n",
    "The dashboard is designed following the key information visualization principles:\n",
    "\n",
    "- Clarity and simplicity\n",
    "- Interactive exploration\n",
    "- Detail on demand\n",
    "- Consistency and cognitive load reduction"
   ]
  },
  {
   "cell_type": "markdown",
   "id": "0631cfa8",
   "metadata": {},
   "source": [
    "# 1. Features\n",
    "\n",
    "## Multi-page Dashboard:\n",
    "- Overview Page: General diabetes insights.\n",
    "- Demographic Analysis: Explore prevalence by age, gender, education.\n",
    "- Health Factors: Analyze BMI, physical health, smoking, physical activity, healthcare access.\n",
    "- Social Gradient: Visualize how income and education disparities impact diabetes rates.\n",
    "## Interactive Visualizations:\n",
    "- Brushing and linking across scatterplots and donut charts.\n",
    "- Hover tooltips for detailed information.\n",
    "- Dropdown filters for diabetes classes and gender categories.\n",
    "- Responsive layout for different screen sizes.\n",
    "## Data-Driven Insights:\n",
    "- Clearly labeled and color-coded visual elements.\n",
    "- Supports exploration of health disparities and social determinants of diabetes risk."
   ]
  },
  {
   "cell_type": "markdown",
   "id": "e3aa89b8",
   "metadata": {},
   "source": [
    "## 2. Prerequisites\n",
    "\n",
    "Before running the project ensure you have the following installed \n",
    "\n",
    "- A modern web browser (such as Google Chrome, Mozilla Firefox, or Microsoft Edge) for viewing and interacting with the dashboard.\n",
    "- A **virtual environment (venv)** set up\n",
    "- Python 3.x installed - (Needed only if you want to run the backend server for dynamic data loading.)\n",
    "- Required Python libraries"
   ]
  },
  {
   "cell_type": "markdown",
   "id": "b3dc41f3",
   "metadata": {},
   "source": [
    "## **3. Setting Up the Virtual Environment**\n",
    "\n",
    "To maintain dependencies and avoid conflicts, create and activate a virtual environment:\n",
    "\n",
    "### **Windows**\n",
    "```bash\n",
    "python -m venv venv\n",
    "venv\\Scripts\\activate\n",
    "```\n",
    "\n",
    "### **Mac/Linux**\n",
    "```bash\n",
    "python3 -m venv venv\n",
    "source venv/bin/activate\n",
    "```\n",
    "\n",
    "Ensure that all necessary Python packages are installed before proceeding.\n"
   ]
  },
  {
   "cell_type": "markdown",
   "id": "ef550c2a",
   "metadata": {},
   "source": [
    "## 4. Technologies Used\n",
    "\n",
    "- HTML / CSS / JavaScript\n",
    "- D3.js (for dynamic and interactive visualizations)\n",
    "- Chart.js (for supporting simple chart structures)\n",
    "- Pandas and Flask (for data preparation and API, if running locally)"
   ]
  },
  {
   "cell_type": "markdown",
   "id": "b2729e5a",
   "metadata": {},
   "source": [
    "## 5. Clone the Repository"
   ]
  },
  {
   "cell_type": "code",
   "execution_count": 9,
   "id": "abda0552",
   "metadata": {},
   "outputs": [
    {
     "name": "stdout",
     "output_type": "stream",
     "text": [
      "Cloning into 'Diabetes_insights'...\n",
      "remote: Enumerating objects: 472, done.\u001b[K\n",
      "remote: Counting objects: 100% (120/120), done.\u001b[K\n",
      "remote: Compressing objects: 100% (72/72), done.\u001b[K\n",
      "remote: Total 472 (delta 64), reused 86 (delta 39), pack-reused 352 (from 1)\u001b[K\n",
      "Receiving objects: 100% (472/472), 10.62 MiB | 11.43 MiB/s, done.\n",
      "Resolving deltas: 100% (270/270), done.\n"
     ]
    }
   ],
   "source": [
    "! git clone https://github.com/jbhanuchai/Diabetes_insights.git\n",
    "! cd Diabetes_insights\n"
   ]
  },
  {
   "cell_type": "markdown",
   "id": "24bbbe84",
   "metadata": {},
   "source": [
    "## 6. Project Structure \n",
    "\n",
    "- backend/ – Python backend scripts (app.py, eda.py, preprocessing.py) and data files\n",
    "- frontend/ – All dashboard code:\n",
    "- static/ → CSS, JavaScript (D3.js), and optional images\n",
    "- .html files → Main dashboard pages (index.html, diabetes_trends.html, etc)\n",
    "- requirements.txt – Python dependencies (for backend use)\n",
    "- package.json – npm setup (for running live-server)\n",
    "- README.md – Project documentation"
   ]
  },
  {
   "cell_type": "markdown",
   "id": "8bf25d6d",
   "metadata": {},
   "source": [
    "## 7. Running the Project \n",
    "\n",
    "- To run the dashboard (frontend) the user need to install \n",
    "   - Node.js\n",
    "- live-server (via npm) used to serve dashboard locally:\n",
    "\n",
    "```bash\n",
    "cd Diabetes_insights/frontend\n",
    "npx live-server --port=5500\n",
    "```\n",
    "\n",
    "- To run the backend \n",
    "\n",
    "```bash\n",
    "cd Diabetes_insights/backend\n",
    "python3 app.py  \n",
    "```"
   ]
  }
 ],
 "metadata": {
  "kernelspec": {
   "display_name": "Python 3",
   "language": "python",
   "name": "python3"
  },
  "language_info": {
   "codemirror_mode": {
    "name": "ipython",
    "version": 3
   },
   "file_extension": ".py",
   "mimetype": "text/x-python",
   "name": "python",
   "nbconvert_exporter": "python",
   "pygments_lexer": "ipython3",
   "version": "3.9.6"
  }
 },
 "nbformat": 4,
 "nbformat_minor": 5
}
